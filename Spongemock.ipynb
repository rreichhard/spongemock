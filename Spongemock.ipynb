{
 "cells": [
  {
   "cell_type": "code",
   "execution_count": 1,
   "metadata": {},
   "outputs": [],
   "source": [
    "# Import necessary library\n",
    "\n",
    "import random"
   ]
  },
  {
   "cell_type": "code",
   "execution_count": 2,
   "metadata": {},
   "outputs": [],
   "source": [
    "def spongemock(input_text):\n",
    "    output_text = \"\"\n",
    "    for char in input_text:\n",
    "        if char.isalpha():\n",
    "            if random.random() > 0.5:\n",
    "                output_text += char.upper()\n",
    "            else:\n",
    "                output_text += char.lower()\n",
    "        else:\n",
    "            output_text += char\n",
    "    output_text2 = replace(output_text)\n",
    "    return output_text2\n",
    "\n",
    "# blatantly took this from https://www.geeksforgeeks.org/spongebob-mocking-text-generator-python/"
   ]
  },
  {
   "cell_type": "code",
   "execution_count": 3,
   "metadata": {},
   "outputs": [],
   "source": [
    "# small function to take text output from spongemock and replace the letter O/o with zeros.\n",
    "# Commented out the lines converting the letter E/e to threes.\n",
    "\n",
    "def replace(output_text):\n",
    "    output_text2 = \"\"\n",
    "    for char in output_text:\n",
    "        if char.isalpha():\n",
    "            if char == 'o':\n",
    "                output_text2 += char.replace(\"o\",\"0\")\n",
    "            elif char == 'O':\n",
    "                output_text2 += char.replace(\"O\", \"0\")\n",
    "#             elif char == \"e\":\n",
    "#                 output_text2 += char.replace(\"e\",\"3\")\n",
    "#             elif char == \"E\":\n",
    "#                 output_text2 += char.replace(\"E\",\"3\")\n",
    "            else:\n",
    "                output_text2 += char\n",
    "        else: output_text2 += char\n",
    "    return output_text2"
   ]
  },
  {
   "cell_type": "code",
   "execution_count": 4,
   "metadata": {},
   "outputs": [
    {
     "name": "stdout",
     "output_type": "stream",
     "text": [
      "n0, ThIS iS patRiCk\n"
     ]
    }
   ],
   "source": [
    "# Replace string in spongemock function call with desired string to convert\n",
    "mock_statement1 = spongemock(\"No, this is Patrick\") \n",
    "\n",
    "print(mock_statement1) # Print new statement to see it here :-)\n",
    "\n",
    "with open('spongemock.txt', 'w') as file: # Save the captured text to a .txt file\n",
    "    file.write(mock_statement1)"
   ]
  },
  {
   "cell_type": "code",
   "execution_count": 5,
   "metadata": {},
   "outputs": [
    {
     "data": {
      "text/plain": [
       "\"WelL GUESs I'Ll JusT REad laTEr THen!\""
      ]
     },
     "execution_count": 5,
     "metadata": {},
     "output_type": "execute_result"
    }
   ],
   "source": [
    "# Spongemock function call with sample string if you just want to see it\n",
    "\n",
    "spongemock(\"Well guess I'll just read later then!\")"
   ]
  },
  {
   "cell_type": "code",
   "execution_count": 6,
   "metadata": {},
   "outputs": [],
   "source": [
    "# if desired, a string can be assigned to this variable name and then printed\n",
    "\n",
    "input_text1 = \"I hate both of you, hope Scot is back soon...\""
   ]
  },
  {
   "cell_type": "code",
   "execution_count": 7,
   "metadata": {},
   "outputs": [
    {
     "name": "stdout",
     "output_type": "stream",
     "text": [
      "I haTe b0th 0f Y0U, h0PE SC0t IS bAck S00N...\n"
     ]
    }
   ],
   "source": [
    "# Printing of string from above\n",
    "\n",
    "print(spongemock(input_text1))"
   ]
  }
 ],
 "metadata": {
  "kernelspec": {
   "display_name": "Python 3",
   "language": "python",
   "name": "python3"
  },
  "language_info": {
   "codemirror_mode": {
    "name": "ipython",
    "version": 3
   },
   "file_extension": ".py",
   "mimetype": "text/x-python",
   "name": "python",
   "nbconvert_exporter": "python",
   "pygments_lexer": "ipython3",
   "version": "3.8.5"
  }
 },
 "nbformat": 4,
 "nbformat_minor": 4
}
